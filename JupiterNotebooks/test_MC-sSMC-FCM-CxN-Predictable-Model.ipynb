{
 "cells": [
  {
   "cell_type": "code",
   "execution_count": 1,
   "metadata": {
    "dotnet_interactive": {
     "language": "csharp"
    },
    "polyglot_notebook": {
     "kernelName": "csharp"
    },
    "vscode": {
     "languageId": "polyglot-notebook"
    }
   },
   "outputs": [],
   "source": [
    "#r \"..\\ConsoleApp1\\bin\\Debug\\net6.0\\ConsoleApp1.dll\""
   ]
  },
  {
   "cell_type": "markdown",
   "metadata": {},
   "source": [
    "# MC_sSMC_FCM_CxN_Predictable_Model\n",
    "\n",
    "## Multi Predict"
   ]
  },
  {
   "cell_type": "code",
   "execution_count": 2,
   "metadata": {
    "dotnet_interactive": {
     "language": "csharp"
    },
    "polyglot_notebook": {
     "kernelName": "csharp"
    },
    "vscode": {
     "languageId": "polyglot-notebook"
    }
   },
   "outputs": [
    {
     "name": "stdout",
     "output_type": "stream",
     "text": [
      "MC_sSMC_FCM_CxN_Predictable_Model MultiPredict Benchmark\n",
      "\n",
      "----------------------------------------------------------------------------------------\n",
      "|                    |      SSWC|        DB|       PBM|       ACC|      RAND|      JACC|\n",
      "----------------------------------------------------------------------------------------\n",
      "|Iris                |  0.651867|  0.688207|  0.978740|  0.860000|  0.848276|  0.639314|\n",
      "----------------------------------------------------------------------------------------\n",
      "|Iris Shuffled       |  0.635485|  0.737203|  0.954467|  0.880000|  0.868966|  0.677789|\n",
      "----------------------------------------------------------------------------------------\n",
      "|Wine                |       NaN|       NaN|       NaN|       NaN|       NaN|       NaN|\n",
      "----------------------------------------------------------------------------------------\n",
      "|Statlog(Heart)      |  0.332406|  1.786203|  0.457529|  0.788889|  0.668903|  0.514427|\n",
      "----------------------------------------------------------------------------------------\n",
      "|Vertebral Column(2C)|  0.511181|  1.071509|  0.097436|  0.712903|  0.565098|  0.417443|\n",
      "----------------------------------------------------------------------------------------\n",
      "|Vertebral Column(3C)|  0.454392|  1.210084|  0.096854|  0.683871|  0.655103|  0.355788|\n",
      "----------------------------------------------------------------------------------------\n",
      "|Glass               |  0.491553|  1.049765|  0.201032|  0.761698|  0.816279|  0.426867|\n",
      "----------------------------------------------------------------------------------------\n",
      "|Bezdek Iris         |  0.634872|  0.746978|  0.962274|  0.920000|  0.904828|  0.757401|\n",
      "----------------------------------------------------------------------------------------\n",
      "Elapsed Time: 21.759 s\n"
     ]
    }
   ],
   "source": [
    "using ConsoleApp1;\n",
    "using ConsoleApp1.Tests;\n",
    "using System.Diagnostics;\n",
    "\n",
    "Stopwatch stopwatch = new Stopwatch();\n",
    "stopwatch.Start();\n",
    "\n",
    "Model_Tests.Test_MultiPredict_MC_sSMC_FCM_CxN_Predictable_Model();\n",
    "\n",
    "stopwatch.Stop();\n",
    "Console.WriteLine(\"Elapsed Time: {0} s\", stopwatch.ElapsedMilliseconds / 1000.0);"
   ]
  },
  {
   "cell_type": "markdown",
   "metadata": {},
   "source": [
    "## Single Predict"
   ]
  },
  {
   "cell_type": "code",
   "execution_count": 3,
   "metadata": {
    "dotnet_interactive": {
     "language": "csharp"
    },
    "polyglot_notebook": {
     "kernelName": "csharp"
    },
    "vscode": {
     "languageId": "polyglot-notebook"
    }
   },
   "outputs": [
    {
     "name": "stdout",
     "output_type": "stream",
     "text": [
      "MC_sSMC_FCM_CxN_Predictable_Model Benchmark\n",
      "\n",
      "----------------------------------------------------------------------------------------\n",
      "|                    |      SSWC|        DB|       PBM|       ACC|      RAND|      JACC|\n",
      "----------------------------------------------------------------------------------------\n",
      "|Iris                |  0.615051|  0.778062|  0.914049|  0.933333|  0.927356|  0.821907|\n",
      "----------------------------------------------------------------------------------------\n",
      "|Iris Shuffled       |  0.615410|  0.729264|  0.896805|  0.913333|  0.894253|  0.737969|\n",
      "----------------------------------------------------------------------------------------\n",
      "|Wine                |       NaN|       NaN|       NaN|       NaN|       NaN|       NaN|\n",
      "----------------------------------------------------------------------------------------\n",
      "|Statlog(Heart)      |  0.311946|  1.859151|  0.413742|  0.766667|  0.649057|  0.484527|\n",
      "----------------------------------------------------------------------------------------\n",
      "|Vertebral Column(2C)|  0.496869|  1.090508|  0.089166|  0.703226|  0.564146|  0.413826|\n",
      "----------------------------------------------------------------------------------------\n",
      "|Vertebral Column(3C)|  0.351398|  1.564284|  0.068928|  0.645161|  0.661237|  0.365676|\n",
      "----------------------------------------------------------------------------------------\n",
      "|Glass               |  0.325796|  1.506486|  0.126210|  0.730021|  0.792267|  0.388436|\n",
      "----------------------------------------------------------------------------------------\n",
      "|Bezdek Iris         |  0.621524|  0.754722|  0.876199|  0.933333|  0.913103|  0.773791|\n",
      "----------------------------------------------------------------------------------------\n",
      "Elapsed Time: 3289.72 s\n"
     ]
    }
   ],
   "source": [
    "using ConsoleApp1;\n",
    "using ConsoleApp1.Tests;\n",
    "using System.Diagnostics;\n",
    "\n",
    "Stopwatch stopwatch = new Stopwatch();\n",
    "stopwatch.Start();\n",
    "\n",
    "Model_Tests.Test_MC_sSMC_FCM_CxN_Predictable_Model();\n",
    "\n",
    "stopwatch.Stop();\n",
    "Console.WriteLine(\"Elapsed Time: {0} s\", stopwatch.ElapsedMilliseconds / 1000.0);"
   ]
  }
 ],
 "metadata": {
  "language_info": {
   "name": "python"
  }
 },
 "nbformat": 4,
 "nbformat_minor": 2
}
