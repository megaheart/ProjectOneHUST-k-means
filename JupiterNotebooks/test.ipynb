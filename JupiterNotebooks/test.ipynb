{
 "cells": [
  {
   "cell_type": "code",
   "execution_count": 5,
   "metadata": {
    "dotnet_interactive": {
     "language": "csharp"
    },
    "polyglot_notebook": {
     "kernelName": "csharp"
    },
    "vscode": {
     "languageId": "polyglot-notebook"
    }
   },
   "outputs": [],
   "source": [
    "public static IEnumerable<IList<bool>> GenerateAllBooleanArray(int n, int k)\n",
    "{\n",
    "    if(n < 1)\n",
    "        throw new ArgumentException(\"n cannot be less than 1\", \"n\");\n",
    "    if(k > n)\n",
    "        throw new ArgumentException(\"k cannot be greater than n\", \"k\");\n",
    "    \n",
    "    var arr = new bool[n];\n",
    "\n",
    "    do {\n",
    "        yield return indexes.Select(i => set[i]).ToArray();\n",
    "\n",
    "        for(int i = k - 1; i > -1; i--){\n",
    "            if(indexes[i] < set.Count - k + i){\n",
    "                indexes[i]++;\n",
    "                for(int j = i + 1; j < k; j++){\n",
    "                    indexes[j] = indexes[j - 1] + 1;\n",
    "                }\n",
    "                break;\n",
    "            }\n",
    "            else if(i == 0){\n",
    "                indexes = null;\n",
    "                break;\n",
    "            }\n",
    "        }\n",
    "    } while(indexes != null);\n",
    "}"
   ]
  },
  {
   "cell_type": "code",
   "execution_count": 6,
   "metadata": {
    "dotnet_interactive": {
     "language": "csharp"
    },
    "polyglot_notebook": {
     "kernelName": "csharp"
    },
    "vscode": {
     "languageId": "polyglot-notebook"
    }
   },
   "outputs": [
    {
     "name": "stdout",
     "output_type": "stream",
     "text": [
      "1, 2, 3\n",
      "1, 2, 4\n",
      "1, 2, 5\n",
      "1, 3, 4\n",
      "1, 3, 5\n",
      "1, 4, 5\n",
      "2, 3, 4\n",
      "2, 3, 5\n",
      "2, 4, 5\n",
      "3, 4, 5\n"
     ]
    }
   ],
   "source": [
    "foreach(var arr in GenerateAllBooleanArray(5, 3)){\n",
    "    var combination = arr.Select((b, i) => b ? i : -1).Where(i => i != -1).ToArray();\n",
    "    Console.WriteLine(string.Join(\", \", combination));\n",
    "}"
   ]
  }
 ],
 "metadata": {
  "language_info": {
   "name": "python"
  },
  "orig_nbformat": 4
 },
 "nbformat": 4,
 "nbformat_minor": 2
}
