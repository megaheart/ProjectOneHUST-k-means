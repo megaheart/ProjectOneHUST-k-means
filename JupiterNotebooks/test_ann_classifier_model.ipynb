{
 "cells": [
  {
   "cell_type": "code",
   "execution_count": 1,
   "metadata": {
    "dotnet_interactive": {
     "language": "csharp"
    },
    "polyglot_notebook": {
     "kernelName": "csharp"
    },
    "vscode": {
     "languageId": "polyglot-notebook"
    }
   },
   "outputs": [],
   "source": [
    "#r \"..\\ConsoleApp1\\bin\\Debug\\net6.0\\ConsoleApp1.dll\""
   ]
  },
  {
   "cell_type": "markdown",
   "metadata": {},
   "source": [
    "# Test Neural Network Classifier Model"
   ]
  },
  {
   "cell_type": "code",
   "execution_count": 2,
   "metadata": {
    "dotnet_interactive": {
     "language": "csharp"
    },
    "polyglot_notebook": {
     "kernelName": "csharp"
    },
    "vscode": {
     "languageId": "polyglot-notebook"
    }
   },
   "outputs": [
    {
     "name": "stdout",
     "output_type": "stream",
     "text": [
      "ANN Classifier Model Benchmark\n",
      "\n",
      "----------------------------------------------------------------------------------------\n",
      "|                    |      SSWC|        DB|       PBM|       ACC|      RAND|      JACC|\n",
      "----------------------------------------------------------------------------------------\n",
      "|Iris                |  0.577922|  0.789749|  0.787477|  0.866667|  0.850575|  0.656358|\n",
      "----------------------------------------------------------------------------------------\n",
      "|Iris Shuffled       |  0.588589|  0.812574|  0.754156|  0.880000|  0.865287|  0.663131|\n",
      "----------------------------------------------------------------------------------------\n",
      "|Wine                |  0.179916|  0.149501|  0.000894|  0.373383|  0.878989|  0.005224|\n",
      "----------------------------------------------------------------------------------------\n",
      "|Statlog(Heart)      |  0.302059|  1.914510|  0.395146|  0.822222|  0.706778|  0.555726|\n",
      "----------------------------------------------------------------------------------------\n",
      "|Vertebral Column(2C)|  0.264877|  1.687500|  0.034282|  0.816129|  0.695082|  0.570478|\n",
      "----------------------------------------------------------------------------------------\n",
      "|Vertebral Column(3C)|  0.306822|  1.568711|  0.039083|  0.819355|  0.810682|  0.599403|\n",
      "----------------------------------------------------------------------------------------\n",
      "|Glass               |  0.336130|  0.929060|  0.073447|  0.760041|  0.815612|  0.524343|\n",
      "----------------------------------------------------------------------------------------\n",
      "|Bezdek Iris         |  0.572349|  0.862131|  0.785717|  0.940000|  0.931494|  0.820712|\n",
      "----------------------------------------------------------------------------------------\n",
      "Elapsed Time: 76.497 s\n"
     ]
    }
   ],
   "source": [
    "using ConsoleApp1;\n",
    "using ConsoleApp1.Tests;\n",
    "using System.Diagnostics;\n",
    "\n",
    "Stopwatch stopwatch = new Stopwatch();\n",
    "stopwatch.Start();\n",
    "\n",
    "Model_Tests.Test_ANN_Classifier_Model();\n",
    "\n",
    "stopwatch.Stop();\n",
    "Console.WriteLine(\"Elapsed Time: {0} s\", stopwatch.ElapsedMilliseconds / 1000.0);"
   ]
  }
 ],
 "metadata": {
  "kernelspec": {
   "display_name": "Python 3",
   "language": "python",
   "name": "python3"
  },
  "language_info": {
   "codemirror_mode": {
    "name": "ipython",
    "version": 3
   },
   "file_extension": ".py",
   "mimetype": "text/x-python",
   "name": "python",
   "nbconvert_exporter": "python",
   "pygments_lexer": "ipython3",
   "version": "3.11.2"
  }
 },
 "nbformat": 4,
 "nbformat_minor": 2
}
