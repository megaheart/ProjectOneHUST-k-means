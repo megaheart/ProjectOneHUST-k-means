{
 "cells": [
  {
   "cell_type": "code",
   "execution_count": 13,
   "metadata": {},
   "outputs": [
    {
     "name": "stdout",
     "output_type": "stream",
     "text": [
      "0.4074074074074074\n",
      "[1 1 0 0 1 1 0 1 1 1 0 1 0 0 0 1 1 0 0 1 0 1 1 1 0 1 1 0 0 1 0 1 1 1 0 0 0\n",
      " 1 1 1 1 0 1 0 1 0 1 1 1 0 0 1 0 1]\n"
     ]
    }
   ],
   "source": [
    "from sklearn.cluster import KMeans\n",
    "from sklearn.preprocessing import StandardScaler\n",
    "from sklearn.datasets import load_iris\n",
    "from sklearn.model_selection import train_test_split\n",
    "from sklearn.metrics import accuracy_score\n",
    "import pandas as pd\n",
    "import numpy as np\n",
    "import matplotlib.pyplot as plt\n",
    "\n",
    "# Get Iris data and split into train and test sets\n",
    "heart = pd.read_csv('./DataSet/heart.dat', sep=' ', header=None)\n",
    "X = heart.drop(13, axis=1).to_numpy()\n",
    "y = heart[13].to_numpy()\n",
    "\n",
    "# Split data into train and test sets\n",
    "X_train, X_test, y_train, y_test = train_test_split(\n",
    "    X, y, test_size=0.2, random_state=0)\n",
    "\n",
    "\n",
    "# Standardize data\n",
    "sc = StandardScaler()\n",
    "sc.fit_transform(X_train)\n",
    "sc.transform(X_test)\n",
    "\n",
    "# Train model\n",
    "model = KMeans(n_clusters=2, random_state=0)\n",
    "model.fit(X_train, y_train)\n",
    "\n",
    "# Predict test data\n",
    "y_pred1 = model.predict(X_test)\n",
    "\n",
    "# Print accuracy\n",
    "print(accuracy_score(y_test, y_pred1))\n",
    "\n",
    "# Plot data\n",
    "print(y_pred1)"
   ]
  }
 ],
 "metadata": {
  "kernelspec": {
   "display_name": "Python 3",
   "language": "python",
   "name": "python3"
  },
  "language_info": {
   "codemirror_mode": {
    "name": "ipython",
    "version": 3
   },
   "file_extension": ".py",
   "mimetype": "text/x-python",
   "name": "python",
   "nbconvert_exporter": "python",
   "pygments_lexer": "ipython3",
   "version": "3.11.2"
  }
 },
 "nbformat": 4,
 "nbformat_minor": 2
}
