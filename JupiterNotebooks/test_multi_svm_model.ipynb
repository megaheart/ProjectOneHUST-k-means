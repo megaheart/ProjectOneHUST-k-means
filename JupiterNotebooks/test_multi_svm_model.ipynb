{
 "cells": [
  {
   "cell_type": "code",
   "execution_count": 2,
   "metadata": {
    "dotnet_interactive": {
     "language": "csharp"
    },
    "polyglot_notebook": {
     "kernelName": "csharp"
    },
    "vscode": {
     "languageId": "polyglot-notebook"
    }
   },
   "outputs": [],
   "source": [
    "#r \"..\\ConsoleApp1\\bin\\Debug\\net6.0\\ConsoleApp1.dll\""
   ]
  },
  {
   "cell_type": "markdown",
   "metadata": {},
   "source": [
    "# Test Multi SVM Model"
   ]
  },
  {
   "cell_type": "code",
   "execution_count": 3,
   "metadata": {
    "dotnet_interactive": {
     "language": "csharp"
    },
    "polyglot_notebook": {
     "kernelName": "csharp"
    },
    "vscode": {
     "languageId": "polyglot-notebook"
    }
   },
   "outputs": [
    {
     "name": "stdout",
     "output_type": "stream",
     "text": [
      "Random Forest Model Benchmark\n",
      "\n",
      "----------------------------------------------------------------------------------------\n",
      "|                    |      SSWC|        DB|       PBM|       ACC|      RAND|      JACC|\n",
      "----------------------------------------------------------------------------------------\n",
      "|Iris                |  0.610412|  0.804001|  0.903063|  0.940000|  0.928276|  0.819179|\n",
      "----------------------------------------------------------------------------------------\n",
      "|Iris Shuffled       |  0.605022|  0.789975|  0.916780|  0.946667|  0.934713|  0.836827|\n",
      "----------------------------------------------------------------------------------------\n",
      "|Wine                |  0.086226|  0.211057|  0.006304|  0.752180|  0.974453|  0.011111|\n",
      "----------------------------------------------------------------------------------------\n",
      "|Statlog(Heart)      |  0.269407|  2.128861|  0.330591|  0.829630|  0.715444|  0.571985|\n",
      "----------------------------------------------------------------------------------------\n",
      "|Vertebral Column(2C)|  0.242146|  1.675237|  0.029529|  0.812903|  0.696457|  0.590576|\n",
      "----------------------------------------------------------------------------------------\n",
      "|Vertebral Column(3C)|  0.238400|  1.823148|  0.036617|  0.845161|  0.856901|  0.680639|\n",
      "----------------------------------------------------------------------------------------\n",
      "|Glass               |  0.312746|  1.445022|  0.114241|  0.972257|  0.974888|  0.912385|\n",
      "----------------------------------------------------------------------------------------\n",
      "|Bezdek Iris         |  0.628506|  0.761056|  0.971756|  0.960000|  0.952644|  0.869484|\n",
      "----------------------------------------------------------------------------------------\n",
      "Elapsed Time: 44.675 s\n"
     ]
    }
   ],
   "source": [
    "using ConsoleApp1;\n",
    "using ConsoleApp1.Tests;\n",
    "using System.Diagnostics;\n",
    "\n",
    "Stopwatch stopwatch = new Stopwatch();\n",
    "stopwatch.Start();\n",
    "\n",
    "Model_Tests.Test_Random_Forest_Model();\n",
    "\n",
    "stopwatch.Stop();\n",
    "Console.WriteLine(\"Elapsed Time: {0} s\", stopwatch.ElapsedMilliseconds / 1000.0);"
   ]
  }
 ],
 "metadata": {
  "language_info": {
   "name": "python"
  }
 },
 "nbformat": 4,
 "nbformat_minor": 2
}
