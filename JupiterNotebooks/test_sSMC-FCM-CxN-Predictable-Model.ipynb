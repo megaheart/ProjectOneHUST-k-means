{
 "cells": [
  {
   "cell_type": "code",
   "execution_count": 1,
   "metadata": {
    "dotnet_interactive": {
     "language": "csharp"
    },
    "polyglot_notebook": {
     "kernelName": "csharp"
    },
    "vscode": {
     "languageId": "polyglot-notebook"
    }
   },
   "outputs": [],
   "source": [
    "#r \"..\\ConsoleApp1\\bin\\Debug\\net6.0\\ConsoleApp1.dll\""
   ]
  },
  {
   "cell_type": "markdown",
   "metadata": {},
   "source": [
    "# sSMC_FCM_CxN_Predictable_Model\n",
    "\n",
    "## Multi Predict"
   ]
  },
  {
   "cell_type": "code",
   "execution_count": 2,
   "metadata": {
    "dotnet_interactive": {
     "language": "csharp"
    },
    "polyglot_notebook": {
     "kernelName": "csharp"
    },
    "vscode": {
     "languageId": "polyglot-notebook"
    }
   },
   "outputs": [
    {
     "name": "stdout",
     "output_type": "stream",
     "text": [
      "sSMC_FCM_CxN_Predictable_Model MultiPredict Benchmark\n",
      "\n",
      "----------------------------------------------------------------------------------------\n",
      "|                    |      SSWC|        DB|       PBM|       ACC|      RAND|      JACC|\n",
      "----------------------------------------------------------------------------------------\n",
      "|Iris                |  0.645418|  0.727083|  0.985055|  0.900000|  0.891494|  0.728061|\n",
      "----------------------------------------------------------------------------------------\n",
      "|Iris Shuffled       |  0.664286|  0.688977|  1.052681|  0.886667|  0.876322|  0.687188|\n",
      "----------------------------------------------------------------------------------------\n",
      "|Wine                |  0.132432|  0.098382|  0.089645|  0.869925|  0.984460|  0.000000|\n",
      "----------------------------------------------------------------------------------------\n",
      "|Statlog(Heart)      |  0.336268|  1.779331|  0.468933|  0.788889|  0.666946|  0.504295|\n",
      "----------------------------------------------------------------------------------------\n",
      "|Vertebral Column(2C)|  0.503113|  1.086106|  0.092697|  0.693548|  0.547329|  0.403644|\n",
      "----------------------------------------------------------------------------------------\n",
      "|Vertebral Column(3C)|  0.438937|  1.268514|  0.102198|  0.661290|  0.625701|  0.322712|\n",
      "----------------------------------------------------------------------------------------\n",
      "|Glass               |  0.457391|  1.263855|  0.170430|  0.772050|  0.787591|  0.343035|\n",
      "----------------------------------------------------------------------------------------\n",
      "|Bezdek Iris         |  0.633402|  0.757131|  0.984895|  0.893333|  0.879080|  0.698322|\n",
      "----------------------------------------------------------------------------------------\n",
      "Elapsed Time: 41.052 s\n"
     ]
    }
   ],
   "source": [
    "using ConsoleApp1;\n",
    "using ConsoleApp1.Tests;\n",
    "using System.Diagnostics;\n",
    "\n",
    "Stopwatch stopwatch = new Stopwatch();\n",
    "stopwatch.Start();\n",
    "\n",
    "Model_Tests.Test_MultiPredict_sSMC_FCM_CxN_Predictable_Model();\n",
    "\n",
    "stopwatch.Stop();\n",
    "Console.WriteLine(\"Elapsed Time: {0} s\", stopwatch.ElapsedMilliseconds / 1000.0);"
   ]
  },
  {
   "cell_type": "markdown",
   "metadata": {},
   "source": [
    "## Single Predict"
   ]
  },
  {
   "cell_type": "code",
   "execution_count": 3,
   "metadata": {
    "dotnet_interactive": {
     "language": "csharp"
    },
    "polyglot_notebook": {
     "kernelName": "csharp"
    },
    "vscode": {
     "languageId": "polyglot-notebook"
    }
   },
   "outputs": [
    {
     "name": "stdout",
     "output_type": "stream",
     "text": [
      "sSMC_FCM_CxN_Predictable_Model Benchmark\n",
      "\n",
      "----------------------------------------------------------------------------------------\n",
      "|                    |      SSWC|        DB|       PBM|       ACC|      RAND|      JACC|\n",
      "----------------------------------------------------------------------------------------\n",
      "|Iris                |  0.619600|  0.757358|  0.924255|  0.900000|  0.882299|  0.724654|\n",
      "----------------------------------------------------------------------------------------\n",
      "|Iris Shuffled       |  0.613315|  0.755830|  0.895622|  0.886667|  0.870345|  0.680310|\n",
      "----------------------------------------------------------------------------------------\n",
      "|Wine                |  0.203533|  0.149748|  0.005857|  0.627820|  0.941692|  0.000000|\n",
      "----------------------------------------------------------------------------------------\n",
      "|Statlog(Heart)      |  0.326324|  1.818828|  0.432598|  0.796296|  0.676450|  0.522953|\n",
      "----------------------------------------------------------------------------------------\n",
      "|Vertebral Column(2C)|  0.406485|  1.511063|  0.059508|  0.683871|  0.535167|  0.391943|\n",
      "----------------------------------------------------------------------------------------\n",
      "|Vertebral Column(3C)|  0.357996|  1.676665|  0.073326|  0.683871|  0.632470|  0.334270|\n",
      "----------------------------------------------------------------------------------------\n",
      "|Glass               |  0.329000|  1.713646|  0.128686|  0.730021|  0.787227|  0.331994|\n",
      "----------------------------------------------------------------------------------------\n",
      "|Bezdek Iris         |  0.625837|  0.744031|  0.939123|  0.906667|  0.884598|  0.720642|\n",
      "----------------------------------------------------------------------------------------\n",
      "Elapsed Time: 2718.77 s\n"
     ]
    }
   ],
   "source": [
    "using ConsoleApp1;\n",
    "using ConsoleApp1.Tests;\n",
    "using System.Diagnostics;\n",
    "\n",
    "Stopwatch stopwatch = new Stopwatch();\n",
    "stopwatch.Start();\n",
    "\n",
    "Model_Tests.Test_sSMC_FCM_CxN_Predictable_Model();\n",
    "\n",
    "stopwatch.Stop();\n",
    "Console.WriteLine(\"Elapsed Time: {0} s\", stopwatch.ElapsedMilliseconds / 1000.0);"
   ]
  }
 ],
 "metadata": {
  "language_info": {
   "name": "python"
  }
 },
 "nbformat": 4,
 "nbformat_minor": 2
}
