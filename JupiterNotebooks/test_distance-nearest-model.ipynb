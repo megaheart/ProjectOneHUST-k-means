{
 "cells": [
  {
   "cell_type": "code",
   "execution_count": 1,
   "metadata": {
    "dotnet_interactive": {
     "language": "csharp"
    },
    "polyglot_notebook": {
     "kernelName": "csharp"
    },
    "vscode": {
     "languageId": "polyglot-notebook"
    }
   },
   "outputs": [],
   "source": [
    "#r \"..\\ConsoleApp1\\bin\\Debug\\net6.0\\ConsoleApp1.dll\""
   ]
  },
  {
   "cell_type": "markdown",
   "metadata": {},
   "source": [
    "# Test Distance Nearest Model"
   ]
  },
  {
   "cell_type": "code",
   "execution_count": 2,
   "metadata": {
    "dotnet_interactive": {
     "language": "csharp"
    },
    "polyglot_notebook": {
     "kernelName": "csharp"
    },
    "vscode": {
     "languageId": "polyglot-notebook"
    }
   },
   "outputs": [
    {
     "name": "stdout",
     "output_type": "stream",
     "text": [
      "DistanceNearestModel Benchmark\n",
      "\n",
      "----------------------------------------------------------------------------------------\n",
      "|                    |      SSWC|        DB|       PBM|       ACC|      RAND|      JACC|\n",
      "----------------------------------------------------------------------------------------\n",
      "|Iris                |  0.626099|  0.766245|  0.989667|  0.886667|  0.870805|  0.678133|\n",
      "----------------------------------------------------------------------------------------\n",
      "|Iris Shuffled       |  0.630616|  0.746214|  0.983251|  0.900000|  0.887816|  0.713487|\n",
      "----------------------------------------------------------------------------------------\n",
      "|Wine                |  0.142294|  0.121181|  0.035991|  0.837444|  0.984382|  0.000000|\n",
      "----------------------------------------------------------------------------------------\n",
      "|Statlog(Heart)      |  0.332355|  1.788435|  0.464664|  0.803704|  0.683159|  0.526808|\n",
      "----------------------------------------------------------------------------------------\n",
      "|Vertebral Column(2C)|  0.501254|  1.076726|  0.094075|  0.719355|  0.561713|  0.415102|\n",
      "----------------------------------------------------------------------------------------\n",
      "|Vertebral Column(3C)|  0.422907|  1.315117|  0.093904|  0.654839|  0.627604|  0.327408|\n",
      "----------------------------------------------------------------------------------------\n",
      "|Glass               |  0.388760|  1.446835|  0.151483|  0.720497|  0.781092|  0.328623|\n",
      "----------------------------------------------------------------------------------------\n",
      "|Bezdek Iris         |  0.618025|  0.747987|  0.962102|  0.900000|  0.882299|  0.697326|\n",
      "----------------------------------------------------------------------------------------\n",
      "Elapsed Time: 50.178 s\n"
     ]
    }
   ],
   "source": [
    "using ConsoleApp1;\n",
    "using ConsoleApp1.Tests;\n",
    "using System.Diagnostics;\n",
    "\n",
    "Stopwatch stopwatch = new Stopwatch();\n",
    "stopwatch.Start();\n",
    "\n",
    "Model_Tests.Test_DistanceNearestModel();\n",
    "\n",
    "stopwatch.Stop();\n",
    "Console.WriteLine(\"Elapsed Time: {0} s\", stopwatch.ElapsedMilliseconds / 1000.0);"
   ]
  }
 ],
 "metadata": {
  "language_info": {
   "name": "python"
  }
 },
 "nbformat": 4,
 "nbformat_minor": 2
}
