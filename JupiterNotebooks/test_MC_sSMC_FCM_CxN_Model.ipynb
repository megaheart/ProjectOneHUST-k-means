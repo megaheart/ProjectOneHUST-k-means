{
 "cells": [
  {
   "cell_type": "markdown",
   "metadata": {},
   "source": [
    "# Prepare Data"
   ]
  },
  {
   "cell_type": "code",
   "execution_count": 1,
   "metadata": {
    "dotnet_interactive": {
     "language": "csharp"
    },
    "polyglot_notebook": {
     "kernelName": "csharp"
    },
    "vscode": {
     "languageId": "polyglot-notebook"
    }
   },
   "outputs": [],
   "source": [
    "#r \"..\\ConsoleApp1\\bin\\Debug\\net6.0\\ConsoleApp1.dll\"\n",
    "\n",
    "using System;\n",
    "using ProjectOneClasses.Utilities;\n",
    "using ProjectOneClasses.Models;\n",
    "using ProjectOneClasses;\n",
    "using ConsoleApp1;\n",
    "using System.Collections.Immutable;\n",
    "\n",
    "Data.LoadAllExampleData();\n",
    "var dataInfo = Data.datas[0];\n",
    "var data = dataInfo.aCIDb;\n",
    "MC_sSMC_FCM_CxN_Model model = new MC_sSMC_FCM_CxN_Model();\n",
    "var label = data.expect.Select((x, i) => new Tuple<int, int>(i, x)).ToImmutableDictionary(x => x.Item1, x => x.Item2);"
   ]
  },
  {
   "cell_type": "markdown",
   "metadata": {},
   "source": [
    "# Learn Fuzzification Coefficients Matrix"
   ]
  },
  {
   "cell_type": "code",
   "execution_count": 2,
   "metadata": {
    "dotnet_interactive": {
     "language": "csharp"
    },
    "polyglot_notebook": {
     "kernelName": "csharp"
    },
    "vscode": {
     "languageId": "polyglot-notebook"
    }
   },
   "outputs": [
    {
     "data": {
      "text/html": [
       "<table><thead><tr><th><i>index</i></th><th>value</th></tr></thead><tbody><tr><td>0</td><td><div class=\"dni-plaintext\"><pre>[ 1.9576151889712174, 1.727851592551557, 1.727851592551557 ]</pre></div></td></tr><tr><td>1</td><td><div class=\"dni-plaintext\"><pre>[ 2.5406389292352674, 2.5406389292352674, 2.5406389292352674 ]</pre></div></td></tr><tr><td>2</td><td><div class=\"dni-plaintext\"><pre>[ 2.2247209090968596, 2.2247209090968596, 2.2247209090968596 ]</pre></div></td></tr><tr><td>3</td><td><div class=\"dni-plaintext\"><pre>[ 2.5098642057931357, 2.5098642057931357, 2.5098642057931357 ]</pre></div></td></tr><tr><td>4</td><td><div class=\"dni-plaintext\"><pre>[ 2.05304795228559, 2.05304795228559, 2.05304795228559 ]</pre></div></td></tr><tr><td>5</td><td><div class=\"dni-plaintext\"><pre>[ 3.0173985251872866, 3.0173985251872866, 3.0173985251872866 ]</pre></div></td></tr><tr><td>6</td><td><div class=\"dni-plaintext\"><pre>[ 2.3124085656842865, 2.3124085656842865, 2.3124085656842865 ]</pre></div></td></tr><tr><td>7</td><td><div class=\"dni-plaintext\"><pre>[ 1.9576151889712174, 1.1, 1.1 ]</pre></div></td></tr><tr><td>8</td><td><div class=\"dni-plaintext\"><pre>[ 3.100853616065851, 3.100853616065851, 3.100853616065851 ]</pre></div></td></tr><tr><td>9</td><td><div class=\"dni-plaintext\"><pre>[ 2.3481451000429576, 2.3481451000429576, 2.3481451000429576 ]</pre></div></td></tr><tr><td>10</td><td><div class=\"dni-plaintext\"><pre>[ 2.5850787808787565, 2.5850787808787565, 2.5850787808787565 ]</pre></div></td></tr><tr><td>11</td><td><div class=\"dni-plaintext\"><pre>[ 1.9576151889712174, 1.8603023727710872, 1.8603023727710872 ]</pre></div></td></tr><tr><td>12</td><td><div class=\"dni-plaintext\"><pre>[ 2.642545156920262, 2.642545156920262, 2.642545156920262 ]</pre></div></td></tr><tr><td>13</td><td><div class=\"dni-plaintext\"><pre>[ 3.162814395088311, 3.162814395088311, 3.162814395088311 ]</pre></div></td></tr><tr><td>14</td><td><div class=\"dni-plaintext\"><pre>[ 5.316247850724519, 3.473365568011376, 3.473365568011376 ]</pre></div></td></tr><tr><td>15</td><td><div class=\"dni-plaintext\"><pre>[ 8, 3.9438571904079427, 3.9438571904079427 ]</pre></div></td></tr><tr><td>16</td><td><div class=\"dni-plaintext\"><pre>[ 3.0248533784454112, 3.0248533784454112, 3.0248533784454112 ]</pre></div></td></tr><tr><td>17</td><td><div class=\"dni-plaintext\"><pre>[ 1.9576151889712174, 1.7358892360072193, 1.7358892360072193 ]</pre></div></td></tr><tr><td>18</td><td><div class=\"dni-plaintext\"><pre>[ 3.103347220404708, 3.103347220404708, 3.103347220404708 ]</pre></div></td></tr><tr><td>19</td><td><div class=\"dni-plaintext\"><pre>[ 2.5999345413424786, 2.5999345413424786, 2.5999345413424786 ]</pre></div></td></tr><tr><td colspan=\"2\"><i>(130 more)</i></td></tr></tbody></table><style>\r\n",
       ".dni-code-hint {\r\n",
       "    font-style: italic;\r\n",
       "    overflow: hidden;\r\n",
       "    white-space: nowrap;\r\n",
       "}\r\n",
       ".dni-treeview {\r\n",
       "    white-space: nowrap;\r\n",
       "}\r\n",
       ".dni-treeview td {\r\n",
       "    vertical-align: top;\r\n",
       "    text-align: start;\r\n",
       "}\r\n",
       "details.dni-treeview {\r\n",
       "    padding-left: 1em;\r\n",
       "}\r\n",
       "table td {\r\n",
       "    text-align: start;\r\n",
       "}\r\n",
       "table tr { \r\n",
       "    vertical-align: top; \r\n",
       "    margin: 0em 0px;\r\n",
       "}\r\n",
       "table tr td pre \r\n",
       "{ \r\n",
       "    vertical-align: top !important; \r\n",
       "    margin: 0em 0px !important;\r\n",
       "} \r\n",
       "table th {\r\n",
       "    text-align: start;\r\n",
       "}\r\n",
       "</style>"
      ]
     },
     "metadata": {},
     "output_type": "display_data"
    }
   ],
   "source": [
    "model.LearnFuzzificationCoefficientsMatrix(data.X, data.C, label);\n",
    "\n",
    "model.FuzzificationCoefficientsMatrix"
   ]
  },
  {
   "cell_type": "markdown",
   "metadata": {},
   "source": [
    "# Clustering"
   ]
  },
  {
   "cell_type": "code",
   "execution_count": 3,
   "metadata": {
    "dotnet_interactive": {
     "language": "csharp"
    },
    "polyglot_notebook": {
     "kernelName": "csharp"
    },
    "vscode": {
     "languageId": "polyglot-notebook"
    }
   },
   "outputs": [
    {
     "data": {
      "text/html": [
       "<details open=\"open\" class=\"dni-treeview\"><summary><span class=\"dni-code-hint\"><code>ProjectOneClasses.ResultTypes.MC_sSMC_FCM_Result</code></span></summary><div><table><thead><tr></tr></thead><tbody><tr><td>V</td><td><table><thead><tr><th><i>index</i></th><th>value</th></tr></thead><tbody><tr><td>0</td><td><div class=\"dni-plaintext\"><pre>[ 0.18849141223558133, 0.569442696471998, 0.08296490874823718, 0.059437716653286315 ]</pre></div></td></tr><tr><td>1</td><td><div class=\"dni-plaintext\"><pre>[ 0.4477845536298337, 0.3426275043870431, 0.5667162069550368, 0.5232153545779489 ]</pre></div></td></tr><tr><td>2</td><td><div class=\"dni-plaintext\"><pre>[ 0.6247546814572457, 0.42193455685248016, 0.7422408250646383, 0.7906348485624622 ]</pre></div></td></tr></tbody></table></td></tr><tr><td>U</td><td><table><thead><tr><th><i>index</i></th><th>value</th></tr></thead><tbody><tr><td>0</td><td><div class=\"dni-plaintext\"><pre>[ 0.9979128973971502, 0.00150431393590311, 0.0005827886669467234 ]</pre></div></td></tr><tr><td>1</td><td><div class=\"dni-plaintext\"><pre>[ 0.8274520925522905, 0.1075014049324515, 0.06504650251525802 ]</pre></div></td></tr><tr><td>2</td><td><div class=\"dni-plaintext\"><pre>[ 0.9421318244598114, 0.03722055206693324, 0.020647623473255442 ]</pre></div></td></tr><tr><td>3</td><td><div class=\"dni-plaintext\"><pre>[ 0.8422081215150918, 0.09801553005900104, 0.05977634842590711 ]</pre></div></td></tr><tr><td>4</td><td><div class=\"dni-plaintext\"><pre>[ 0.9716322382921757, 0.018505435604428064, 0.009862326103396272 ]</pre></div></td></tr><tr><td>5</td><td><div class=\"dni-plaintext\"><pre>[ 0.623794143600933, 0.2163677273635017, 0.1598381290355653 ]</pre></div></td></tr><tr><td>6</td><td><div class=\"dni-plaintext\"><pre>[ 0.9280292608309636, 0.045355171764232365, 0.02661556740480403 ]</pre></div></td></tr><tr><td>7</td><td><div class=\"dni-plaintext\"><pre>[ 1, 1.6264849964548265E-28, 1.2133214208540399E-31 ]</pre></div></td></tr><tr><td>8</td><td><div class=\"dni-plaintext\"><pre>[ 0.6398866734229254, 0.211291058932076, 0.14882226764499865 ]</pre></div></td></tr><tr><td>9</td><td><div class=\"dni-plaintext\"><pre>[ 0.901790851348253, 0.062445697311533585, 0.03576345134021341 ]</pre></div></td></tr><tr><td>10</td><td><div class=\"dni-plaintext\"><pre>[ 0.7912227771119562, 0.12531512347320028, 0.08346209941484342 ]</pre></div></td></tr><tr><td>11</td><td><div class=\"dni-plaintext\"><pre>[ 0.9964043284563278, 0.0025075462498619625, 0.0010881252938102742 ]</pre></div></td></tr><tr><td>12</td><td><div class=\"dni-plaintext\"><pre>[ 0.7965411632373122, 0.12447344975679393, 0.07898538700589394 ]</pre></div></td></tr><tr><td>13</td><td><div class=\"dni-plaintext\"><pre>[ 0.6431881627648124, 0.20617451749669868, 0.15063731973848898 ]</pre></div></td></tr><tr><td>14</td><td><div class=\"dni-plaintext\"><pre>[ 0.588892229452873, 0.22711966539225825, 0.18398810515486888 ]</pre></div></td></tr><tr><td>15</td><td><div class=\"dni-plaintext\"><pre>[ 0.5798197434773221, 0.22525926871364274, 0.19492098780903516 ]</pre></div></td></tr><tr><td>16</td><td><div class=\"dni-plaintext\"><pre>[ 0.6341396754185291, 0.2091435816645706, 0.15671674291690033 ]</pre></div></td></tr><tr><td>17</td><td><div class=\"dni-plaintext\"><pre>[ 0.9973977879899181, 0.0018799751270227431, 0.0007222368830592399 ]</pre></div></td></tr><tr><td>18</td><td><div class=\"dni-plaintext\"><pre>[ 0.600072309362258, 0.22943055138141266, 0.1704971392563293 ]</pre></div></td></tr><tr><td>19</td><td><div class=\"dni-plaintext\"><pre>[ 0.7883364082823835, 0.12629137343964686, 0.08537221827796959 ]</pre></div></td></tr><tr><td colspan=\"2\"><i>(130 more)</i></td></tr></tbody></table></td></tr><tr><td>l</td><td><div class=\"dni-plaintext\"><pre>7</pre></div></td></tr></tbody></table></div></details><style>\r\n",
       ".dni-code-hint {\r\n",
       "    font-style: italic;\r\n",
       "    overflow: hidden;\r\n",
       "    white-space: nowrap;\r\n",
       "}\r\n",
       ".dni-treeview {\r\n",
       "    white-space: nowrap;\r\n",
       "}\r\n",
       ".dni-treeview td {\r\n",
       "    vertical-align: top;\r\n",
       "    text-align: start;\r\n",
       "}\r\n",
       "details.dni-treeview {\r\n",
       "    padding-left: 1em;\r\n",
       "}\r\n",
       "table td {\r\n",
       "    text-align: start;\r\n",
       "}\r\n",
       "table tr { \r\n",
       "    vertical-align: top; \r\n",
       "    margin: 0em 0px;\r\n",
       "}\r\n",
       "table tr td pre \r\n",
       "{ \r\n",
       "    vertical-align: top !important; \r\n",
       "    margin: 0em 0px !important;\r\n",
       "} \r\n",
       "table th {\r\n",
       "    text-align: start;\r\n",
       "}\r\n",
       "</style>"
      ]
     },
     "metadata": {},
     "output_type": "display_data"
    }
   ],
   "source": [
    "model.Cluster();\n",
    "\n",
    "model.Result"
   ]
  }
 ],
 "metadata": {
  "language_info": {
   "name": "python"
  }
 },
 "nbformat": 4,
 "nbformat_minor": 2
}
