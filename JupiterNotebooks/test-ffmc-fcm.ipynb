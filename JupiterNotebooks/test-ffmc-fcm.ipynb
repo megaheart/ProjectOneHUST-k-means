{
 "cells": [
  {
   "cell_type": "code",
   "execution_count": 38,
   "metadata": {
    "dotnet_interactive": {
     "language": "csharp"
    },
    "polyglot_notebook": {
     "kernelName": "csharp"
    },
    "vscode": {
     "languageId": "polyglot-notebook"
    }
   },
   "outputs": [],
   "source": [
    "// #r \"..\\ProjectOneClasses\\bin\\Debug\\net6.0\\ProjectOneClasses.dll\"\n",
    "#r \"..\\ConsoleApp1\\bin\\Debug\\net6.0\\ConsoleApp1.dll\"\n",
    "\n",
    "using System;\n",
    "using ProjectOneClasses.Utilities;\n",
    "using ProjectOneClasses;\n",
    "using ConsoleApp1;\n",
    "\n",
    "Data.LoadAllExampleData();\n",
    "var dataInfo = Data.datas[0];\n",
    "var data = dataInfo.aCIDb;\n",
    "var trainData = new List<"
   ]
  },
  {
   "cell_type": "code",
   "execution_count": 39,
   "metadata": {
    "dotnet_interactive": {
     "language": "csharp"
    },
    "polyglot_notebook": {
     "kernelName": "csharp"
    },
    "vscode": {
     "languageId": "polyglot-notebook"
    }
   },
   "outputs": [],
   "source": [
    "\n",
    "\n",
    "var fcm = new sSMC_FCM(data.X, data.C, dataInfo.semiSupervised5);\n",
    "fcm._solve();\n",
    "\n",
    "var result = fcm.Result;"
   ]
  },
  {
   "cell_type": "code",
   "execution_count": 40,
   "metadata": {
    "dotnet_interactive": {
     "language": "csharp"
    },
    "polyglot_notebook": {
     "kernelName": "csharp"
    },
    "vscode": {
     "languageId": "polyglot-notebook"
    }
   },
   "outputs": [
    {
     "name": "stdout",
     "output_type": "stream",
     "text": [
      "l: 14, M: 2, M': 2\r\n"
     ]
    }
   ],
   "source": [
    "Console.WriteLine($\"l: {result.l}, M: {result.M}, M': {result.M2}\");"
   ]
  },
  {
   "cell_type": "code",
   "execution_count": 41,
   "metadata": {
    "dotnet_interactive": {
     "language": "csharp"
    },
    "polyglot_notebook": {
     "kernelName": "csharp"
    },
    "vscode": {
     "languageId": "polyglot-notebook"
    }
   },
   "outputs": [
    {
     "data": {
      "text/html": [
       "<table><thead><tr><th><i>index</i></th><th>value</th></tr></thead><tbody><tr><td>0</td><td><div class=\"dni-plaintext\"><pre>[ 0.19537520843808667, 0.5845551210419971, 0.08294033363847575, 0.06300881593861156 ]</pre></div></td></tr><tr><td>1</td><td><div class=\"dni-plaintext\"><pre>[ 0.43637831935869037, 0.3083602943968522, 0.5668846135038254, 0.529828291482369 ]</pre></div></td></tr><tr><td>2</td><td><div class=\"dni-plaintext\"><pre>[ 0.6774236390640285, 0.4412991379712997, 0.7752143398864508, 0.8115001516953363 ]</pre></div></td></tr></tbody></table><style>\r\n",
       ".dni-code-hint {\r\n",
       "    font-style: italic;\r\n",
       "    overflow: hidden;\r\n",
       "    white-space: nowrap;\r\n",
       "}\r\n",
       ".dni-treeview {\r\n",
       "    white-space: nowrap;\r\n",
       "}\r\n",
       ".dni-treeview td {\r\n",
       "    vertical-align: top;\r\n",
       "    text-align: start;\r\n",
       "}\r\n",
       "details.dni-treeview {\r\n",
       "    padding-left: 1em;\r\n",
       "}\r\n",
       "table td {\r\n",
       "    text-align: start;\r\n",
       "}\r\n",
       "table tr { \r\n",
       "    vertical-align: top; \r\n",
       "    margin: 0em 0px;\r\n",
       "}\r\n",
       "table tr td pre \r\n",
       "{ \r\n",
       "    vertical-align: top !important; \r\n",
       "    margin: 0em 0px !important;\r\n",
       "} \r\n",
       "table th {\r\n",
       "    text-align: start;\r\n",
       "}\r\n",
       "</style>"
      ]
     },
     "metadata": {},
     "output_type": "display_data"
    }
   ],
   "source": [
    "result.V"
   ]
  }
 ],
 "metadata": {
  "language_info": {
   "name": "python"
  },
  "orig_nbformat": 4
 },
 "nbformat": 4,
 "nbformat_minor": 2
}
