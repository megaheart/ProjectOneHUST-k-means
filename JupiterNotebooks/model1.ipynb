{
 "cells": [
  {
   "cell_type": "markdown",
   "metadata": {},
   "source": [
    "# Model 1\n",
    "\n",
    "## Prepare data"
   ]
  },
  {
   "cell_type": "code",
   "execution_count": 1,
   "metadata": {
    "dotnet_interactive": {
     "language": "csharp"
    },
    "polyglot_notebook": {
     "kernelName": "csharp"
    },
    "vscode": {
     "languageId": "polyglot-notebook"
    }
   },
   "outputs": [],
   "source": [
    "#r \"..\\ConsoleApp1\\bin\\Debug\\net6.0\\ConsoleApp1.dll\"\n",
    "\n",
    "using System;\n",
    "using ProjectOneClasses.Utilities;\n",
    "using ProjectOneClasses;\n",
    "using ConsoleApp1;\n",
    "\n",
    "Data.LoadAllExampleData();"
   ]
  },
  {
   "cell_type": "markdown",
   "metadata": {},
   "source": [
    "## Model"
   ]
  },
  {
   "cell_type": "code",
   "execution_count": 2,
   "metadata": {
    "dotnet_interactive": {
     "language": "csharp"
    },
    "polyglot_notebook": {
     "kernelName": "csharp"
    },
    "vscode": {
     "languageId": "polyglot-notebook"
    }
   },
   "outputs": [],
   "source": [
    "using System;\n",
    "using System.Collections.Generic;\n",
    "using System.Collections.Immutable;\n",
    "using System.Linq;\n",
    "using ProjectOneClasses.Utilities;\n",
    "\n",
    "public class Model\n",
    "{\n",
    "    private List<double[]> trainedClusters;\n",
    "    private List<int> trainedLabels;\n",
    "\n",
    "    public void Train(List<double[]> data, int C, IReadOnlyDictionary<int, int> labels)\n",
    "    {\n",
    "        var labelsSet = new HashSet<int>(labels.Values);\n",
    "        trainedLabels = labelsSet.ToList();\n",
    "        for (int i = 0; i < labelsSet.Count; i++)\n",
    "        {\n",
    "            if (trainedLabels[i] < 0)\n",
    "            {\n",
    "                throw new Exception(\"Labels must not be negative\");\n",
    "            }\n",
    "        }\n",
    "        var labelsMapping = trainedLabels.ToImmutableDictionary(x => x, x => trainedLabels.IndexOf(x));\n",
    "        var labelsTransformed = labels.ToImmutableDictionary(x => x.Key, x => labelsMapping[x.Value]);\n",
    "        for (int i = labelsSet.Count; i < C; i++)\n",
    "        {\n",
    "            int label = -(i - labelsSet.Count + 1);\n",
    "            trainedLabels.Add(label);\n",
    "        }\n",
    "        var fcm = new sSMC_FCM(data, C, labelsTransformed);\n",
    "        fcm._solve();\n",
    "        trainedClusters = fcm.Result.V.ToList();\n",
    "    }\n",
    "\n",
    "    public int Predict(double[] example)\n",
    "    {\n",
    "        var distances = trainedClusters.Select(x => Caculation.EuclideanDistanseSquared(x, example)).ToList();\n",
    "        var minDistance = distances.Min();\n",
    "        var minDistanceIndex = distances.IndexOf(minDistance);\n",
    "        return trainedLabels[minDistanceIndex];\n",
    "    }\n",
    "}"
   ]
  },
  {
   "cell_type": "markdown",
   "metadata": {},
   "source": [
    "## Test\n",
    "\n",
    "### 100% Semi-supervised learning"
   ]
  },
  {
   "cell_type": "code",
   "execution_count": 3,
   "metadata": {
    "dotnet_interactive": {
     "language": "csharp"
    },
    "polyglot_notebook": {
     "kernelName": "csharp"
    },
    "vscode": {
     "languageId": "polyglot-notebook"
    }
   },
   "outputs": [
    {
     "name": "stdout",
     "output_type": "stream",
     "text": [
      "Iris                   = 90%(3)\n",
      "Iris Shuffled          = 90%(3)\n",
      "Wine                   = 0.571429%(121)\n",
      "Statlog(Heart)         = 19.62963%(2)\n",
      "Vertebral Column(2C)   = 31.935484%(2)\n",
      "Vertebral Column(3C)   = 39.354839%(3)\n",
      "Glass                  = 49.047619%(6)\n",
      "Bezdek Iris            = 90.666667%(3)\n"
     ]
    }
   ],
   "source": [
    "using ProjectOneClasses.Utilities;\n",
    "\n",
    "foreach (var dataInfo in Data.datas)\n",
    "{\n",
    "    var data = dataInfo.aCIDb;\n",
    "    var X = data.X;\n",
    "    var expect = data.expect;\n",
    "\n",
    "    var indexes = Enumerable.Range(0, X.Count).ToList();\n",
    "    indexes.Shuffle();\n",
    "\n",
    "    // Config k - cross validation\n",
    "    int pieTrainCount = 4;\n",
    "    int pieTestCount = 1;\n",
    "    int pieCount = pieTrainCount + pieTestCount;\n",
    "    var pies = new IEnumerable<int>[pieCount];\n",
    "    int pieSize = X.Count / pieCount;\n",
    "\n",
    "    for (int i = 0; i < pieCount - 1; i++)\n",
    "    {\n",
    "        var pie = indexes.Skip(i * pieSize).Take(pieSize);\n",
    "        pies[i] = pie;\n",
    "    }\n",
    "    pies[pieCount - 1] = indexes.Skip((pieCount - 1) * pieSize);\n",
    "\n",
    "    double meanAccuracy = 0;\n",
    "    int combinationCount = 0;\n",
    "\n",
    "    foreach (var combination in Caculation.GenerateAllCombinations<IEnumerable<int>>(pies, Math.Min(pieTrainCount, pieTestCount)))\n",
    "    {\n",
    "        IEnumerable<int> trainIndexes = null;\n",
    "        IEnumerable<int> testIndexes = null;\n",
    "        int testIndexesIndex = 0;\n",
    "\n",
    "        for (int i = 0; i < pieCount; i++)\n",
    "        {\n",
    "            if (testIndexesIndex < combination.Count && combination[testIndexesIndex] == pies[i])\n",
    "            {\n",
    "                testIndexes = testIndexes == null ? pies[i] : testIndexes.Concat(pies[i]);\n",
    "                testIndexesIndex++;\n",
    "            }\n",
    "            else\n",
    "            {\n",
    "                trainIndexes = trainIndexes == null ? pies[i] : trainIndexes.Concat(pies[i]);\n",
    "            }\n",
    "        }\n",
    "\n",
    "        var trainData = trainIndexes.Select(x => X[x]).ToList();\n",
    "        var trainLabels = trainIndexes.Select((x, i) => new Tuple<int, int>(i, x)).ToImmutableDictionary(x => x.Item1, x => expect[x.Item2]);\n",
    "        var testData = testIndexes.Select(x => X[x]).ToList();\n",
    "        var testLabels = testIndexes.Select((x, i) => new Tuple<int, int>(i, x)).ToImmutableDictionary(x => x.Item1, x => expect[x.Item2]);\n",
    "\n",
    "        var model = new Model();\n",
    "        model.Train(trainData, data.C, trainLabels);\n",
    "        var predictions = testData.Select(x => model.Predict(x)).ToList();\n",
    "        var predictionsDict = predictions.Select((x, i) => new Tuple<int, int>(i, x)).ToImmutableDictionary(x => x.Item1, x => x.Item2);\n",
    "        var accuracy = Caculation.Accuracy(testLabels, predictionsDict);\n",
    "\n",
    "        meanAccuracy += accuracy;\n",
    "        combinationCount++;\n",
    "    }\n",
    "\n",
    "    Console.WriteLine($\"{dataInfo.Name.PadRight(22)} = {Math.Round(meanAccuracy / combinationCount * 100, 6)}%({data.C})\");\n",
    "\n",
    "\n",
    "}"
   ]
  }
 ],
 "metadata": {
  "language_info": {
   "name": "python"
  },
  "orig_nbformat": 4
 },
 "nbformat": 4,
 "nbformat_minor": 2
}
