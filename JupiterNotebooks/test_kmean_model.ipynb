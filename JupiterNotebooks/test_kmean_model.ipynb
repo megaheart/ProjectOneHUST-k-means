{
 "cells": [
  {
   "cell_type": "code",
   "execution_count": 1,
   "metadata": {
    "dotnet_interactive": {
     "language": "csharp"
    },
    "polyglot_notebook": {
     "kernelName": "csharp"
    },
    "vscode": {
     "languageId": "polyglot-notebook"
    }
   },
   "outputs": [],
   "source": [
    "#r \"..\\ConsoleApp1\\bin\\Debug\\net6.0\\ConsoleApp1.dll\""
   ]
  },
  {
   "cell_type": "markdown",
   "metadata": {},
   "source": [
    "# Test K-mean model"
   ]
  },
  {
   "cell_type": "code",
   "execution_count": 2,
   "metadata": {
    "dotnet_interactive": {
     "language": "csharp"
    },
    "polyglot_notebook": {
     "kernelName": "csharp"
    },
    "vscode": {
     "languageId": "polyglot-notebook"
    }
   },
   "outputs": [
    {
     "name": "stdout",
     "output_type": "stream",
     "text": [
      "Kmeans Model Benchmark\n",
      "\n",
      "----------------------------------------------------------------------------------------\n",
      "|                    |      SSWC|        DB|       PBM|       ACC|      RAND|      JACC|\n",
      "----------------------------------------------------------------------------------------\n",
      "|Iris                |  0.604537|  0.807662|  0.855959|  0.820000|  0.828506|  0.586688|\n",
      "----------------------------------------------------------------------------------------\n",
      "|Iris Shuffled       |  0.610612|  0.769266|  0.832978|  0.853333|  0.833563|  0.601503|\n",
      "----------------------------------------------------------------------------------------\n",
      "|Wine                |  0.167002|  0.123437|  0.037016|  0.814135|  0.981072|  0.000000|\n",
      "----------------------------------------------------------------------------------------\n",
      "|Statlog(Heart)      |  0.278786|  2.032065|  0.351612|  0.814815|  0.696157|  0.546162|\n",
      "----------------------------------------------------------------------------------------\n",
      "|Vertebral Column(2C)|  0.493408|  1.122898|  0.094064|  0.683871|  0.549656|  0.409833|\n",
      "----------------------------------------------------------------------------------------\n",
      "|Vertebral Column(3C)|  0.438368|  1.251247|  0.097680|  0.687097|  0.642623|  0.347238|\n",
      "----------------------------------------------------------------------------------------\n",
      "|Glass               |  0.389771|  1.060326|  0.140799|  0.589234|  0.661332|  0.272270|\n",
      "----------------------------------------------------------------------------------------\n",
      "|Bezdek Iris         |  0.596174|  0.795330|  0.872342|  0.833333|  0.830805|  0.596228|\n",
      "----------------------------------------------------------------------------------------\n",
      "Elapsed Time: 97.183 s\n"
     ]
    }
   ],
   "source": [
    "using ConsoleApp1;\n",
    "using ConsoleApp1.Tests;\n",
    "using System.Diagnostics;\n",
    "\n",
    "Stopwatch stopwatch = new Stopwatch();\n",
    "stopwatch.Start();\n",
    "\n",
    "Model_Tests.Test_Kmeans_Model();\n",
    "\n",
    "stopwatch.Stop();\n",
    "Console.WriteLine(\"Elapsed Time: {0} s\", stopwatch.ElapsedMilliseconds / 1000.0);"
   ]
  }
 ],
 "metadata": {
  "language_info": {
   "name": "python"
  }
 },
 "nbformat": 4,
 "nbformat_minor": 2
}
