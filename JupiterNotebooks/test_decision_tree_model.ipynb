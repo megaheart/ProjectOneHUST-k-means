{
 "cells": [
  {
   "cell_type": "code",
   "execution_count": 1,
   "metadata": {
    "dotnet_interactive": {
     "language": "csharp"
    },
    "polyglot_notebook": {
     "kernelName": "csharp"
    },
    "vscode": {
     "languageId": "polyglot-notebook"
    }
   },
   "outputs": [],
   "source": [
    "#r \"..\\ConsoleApp1\\bin\\Debug\\net6.0\\ConsoleApp1.dll\""
   ]
  },
  {
   "cell_type": "markdown",
   "metadata": {},
   "source": [
    "# Test Decision Tree Model"
   ]
  },
  {
   "cell_type": "code",
   "execution_count": 3,
   "metadata": {
    "dotnet_interactive": {
     "language": "csharp"
    },
    "polyglot_notebook": {
     "kernelName": "csharp"
    },
    "vscode": {
     "languageId": "polyglot-notebook"
    }
   },
   "outputs": [
    {
     "name": "stdout",
     "output_type": "stream",
     "text": [
      "Decision Tree Model Benchmark\n",
      "\n",
      "----------------------------------------------------------------------------------------\n",
      "|                    |      SSWC|        DB|       PBM|       ACC|      RAND|      JACC|\n",
      "----------------------------------------------------------------------------------------\n",
      "|Iris                |  0.593549|  0.855638|  0.844701|  0.926667|  0.919080|  0.793275|\n",
      "----------------------------------------------------------------------------------------\n",
      "|Iris Shuffled       |  0.612155|  0.819899|  0.916326|  0.960000|  0.948046|  0.865638|\n",
      "----------------------------------------------------------------------------------------\n",
      "|Wine                |  0.058727|  0.241107|  0.007509|  0.803609|  0.981330|  0.000000|\n",
      "----------------------------------------------------------------------------------------\n",
      "|Statlog(Heart)      |  0.189042|  2.701762|  0.201423|  0.740741|  0.613138|  0.447152|\n",
      "----------------------------------------------------------------------------------------\n",
      "|Vertebral Column(2C)|  0.200800|  2.065353|  0.022749|  0.829032|  0.713485|  0.593849|\n",
      "----------------------------------------------------------------------------------------\n",
      "|Vertebral Column(3C)|  0.182228|  2.408034|  0.033177|  0.803226|  0.819778|  0.612114|\n",
      "----------------------------------------------------------------------------------------\n",
      "|Glass               |  0.295827|  1.484830|  0.109246|  0.977019|  0.983668|  0.936800|\n",
      "----------------------------------------------------------------------------------------\n",
      "|Bezdek Iris         |  0.585723|  0.839597|  0.841931|  0.960000|  0.945747|  0.858453|\n",
      "----------------------------------------------------------------------------------------\n",
      "Elapsed Time: 72.292 s\n"
     ]
    }
   ],
   "source": [
    "using ConsoleApp1;\n",
    "using ConsoleApp1.Tests;\n",
    "using System.Diagnostics;\n",
    "\n",
    "Stopwatch stopwatch = new Stopwatch();\n",
    "stopwatch.Start();\n",
    "\n",
    "Model_Tests.Test_Decision_Tree_Model();\n",
    "\n",
    "stopwatch.Stop();\n",
    "Console.WriteLine(\"Elapsed Time: {0} s\", stopwatch.ElapsedMilliseconds / 1000.0);"
   ]
  }
 ],
 "metadata": {
  "language_info": {
   "name": "python"
  }
 },
 "nbformat": 4,
 "nbformat_minor": 2
}
