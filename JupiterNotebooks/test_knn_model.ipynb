{
 "cells": [
  {
   "cell_type": "code",
   "execution_count": 1,
   "metadata": {
    "dotnet_interactive": {
     "language": "csharp"
    },
    "polyglot_notebook": {
     "kernelName": "csharp"
    },
    "vscode": {
     "languageId": "polyglot-notebook"
    }
   },
   "outputs": [],
   "source": [
    "#r \"..\\ConsoleApp1\\bin\\Debug\\net6.0\\ConsoleApp1.dll\""
   ]
  },
  {
   "cell_type": "markdown",
   "metadata": {},
   "source": [
    "# Test KNN Model"
   ]
  },
  {
   "cell_type": "code",
   "execution_count": 2,
   "metadata": {
    "dotnet_interactive": {
     "language": "csharp"
    },
    "polyglot_notebook": {
     "kernelName": "csharp"
    },
    "vscode": {
     "languageId": "polyglot-notebook"
    }
   },
   "outputs": [
    {
     "name": "stdout",
     "output_type": "stream",
     "text": [
      "KNN Model Benchmark\n",
      "\n",
      "----------------------------------------------------------------------------------------\n",
      "|                    |      SSWC|        DB|       PBM|       ACC|      RAND|      JACC|\n",
      "----------------------------------------------------------------------------------------\n",
      "|Iris                |  0.596421|  0.803770|  0.882077|  0.960000|  0.952184|  0.867879|\n",
      "----------------------------------------------------------------------------------------\n",
      "|Iris Shuffled       |  0.595017|  0.810002|  0.874821|  0.940000|  0.920460|  0.803024|\n",
      "----------------------------------------------------------------------------------------\n",
      "|Wine                |  0.151342|  0.199169|  0.001907|  0.584812|  0.946035|  0.020727|\n",
      "----------------------------------------------------------------------------------------\n",
      "|Statlog(Heart)      |  0.292857|  1.949539|  0.379441|  0.825926|  0.710832|  0.557391|\n",
      "----------------------------------------------------------------------------------------\n",
      "|Vertebral Column(2C)|  0.244604|  1.736710|  0.030125|  0.816129|  0.701851|  0.585870|\n",
      "----------------------------------------------------------------------------------------\n",
      "|Vertebral Column(3C)|  0.275085|  1.795551|  0.037927|  0.809677|  0.788895|  0.568987|\n",
      "----------------------------------------------------------------------------------------\n",
      "|Glass               |  0.282452|  1.233309|  0.100727|  0.849689|  0.876287|  0.652031|\n",
      "----------------------------------------------------------------------------------------\n",
      "|Bezdek Iris         |  0.583262|  0.829479|  0.916988|  0.953333|  0.938851|  0.849085|\n",
      "----------------------------------------------------------------------------------------\n",
      "Elapsed Time: 67.843 s\n"
     ]
    }
   ],
   "source": [
    "using ConsoleApp1;\n",
    "using ConsoleApp1.Tests;\n",
    "using System.Diagnostics;\n",
    "\n",
    "Stopwatch stopwatch = new Stopwatch();\n",
    "stopwatch.Start();\n",
    "\n",
    "Model_Tests.Test_KNN_Model();\n",
    "\n",
    "stopwatch.Stop();\n",
    "Console.WriteLine(\"Elapsed Time: {0} s\", stopwatch.ElapsedMilliseconds / 1000.0);"
   ]
  }
 ],
 "metadata": {
  "language_info": {
   "name": "python"
  }
 },
 "nbformat": 4,
 "nbformat_minor": 2
}
