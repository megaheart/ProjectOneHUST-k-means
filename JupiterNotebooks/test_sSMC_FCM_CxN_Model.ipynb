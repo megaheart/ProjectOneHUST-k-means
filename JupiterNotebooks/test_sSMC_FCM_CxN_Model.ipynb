{
 "cells": [
  {
   "cell_type": "markdown",
   "metadata": {},
   "source": [
    "# Prepare Data"
   ]
  },
  {
   "cell_type": "code",
   "execution_count": 1,
   "metadata": {
    "dotnet_interactive": {
     "language": "csharp"
    },
    "polyglot_notebook": {
     "kernelName": "csharp"
    },
    "vscode": {
     "languageId": "polyglot-notebook"
    }
   },
   "outputs": [],
   "source": [
    "#r \"..\\ConsoleApp1\\bin\\Debug\\net6.0\\ConsoleApp1.dll\"\n",
    "\n",
    "using System;\n",
    "using ProjectOneClasses.Utilities;\n",
    "using ProjectOneClasses.Models;\n",
    "using ProjectOneClasses;\n",
    "using ConsoleApp1;\n",
    "using System.Collections.Immutable;\n",
    "\n",
    "Data.LoadAllExampleData();\n",
    "var dataInfo = Data.datas[0];\n",
    "var data = dataInfo.aCIDb;\n",
    "sSMC_FCM_CxN_Model model = new sSMC_FCM_CxN_Model();\n",
    "var label = data.expect.Select((x, i) => new Tuple<int, int>(i, x)).ToImmutableDictionary(x => x.Item1, x => x.Item2);"
   ]
  },
  {
   "cell_type": "markdown",
   "metadata": {},
   "source": [
    "# Learn Fuzzification Coefficients Matrix"
   ]
  },
  {
   "cell_type": "code",
   "execution_count": 2,
   "metadata": {
    "dotnet_interactive": {
     "language": "csharp"
    },
    "polyglot_notebook": {
     "kernelName": "csharp"
    },
    "vscode": {
     "languageId": "polyglot-notebook"
    }
   },
   "outputs": [
    {
     "data": {
      "text/html": [
       "<table><thead><tr><th><i>index</i></th><th>value</th></tr></thead><tbody><tr><td>0</td><td><div class=\"dni-plaintext\"><pre>[ 8, 2, 2 ]</pre></div></td></tr><tr><td>1</td><td><div class=\"dni-plaintext\"><pre>[ 8, 2, 2 ]</pre></div></td></tr><tr><td>2</td><td><div class=\"dni-plaintext\"><pre>[ 8, 2, 2 ]</pre></div></td></tr><tr><td>3</td><td><div class=\"dni-plaintext\"><pre>[ 8, 2, 2 ]</pre></div></td></tr><tr><td>4</td><td><div class=\"dni-plaintext\"><pre>[ 8, 2, 2 ]</pre></div></td></tr><tr><td>5</td><td><div class=\"dni-plaintext\"><pre>[ 8, 2, 2 ]</pre></div></td></tr><tr><td>6</td><td><div class=\"dni-plaintext\"><pre>[ 8, 2, 2 ]</pre></div></td></tr><tr><td>7</td><td><div class=\"dni-plaintext\"><pre>[ 8, 2, 2 ]</pre></div></td></tr><tr><td>8</td><td><div class=\"dni-plaintext\"><pre>[ 8, 2, 2 ]</pre></div></td></tr><tr><td>9</td><td><div class=\"dni-plaintext\"><pre>[ 8, 2, 2 ]</pre></div></td></tr><tr><td>10</td><td><div class=\"dni-plaintext\"><pre>[ 8, 2, 2 ]</pre></div></td></tr><tr><td>11</td><td><div class=\"dni-plaintext\"><pre>[ 8, 2, 2 ]</pre></div></td></tr><tr><td>12</td><td><div class=\"dni-plaintext\"><pre>[ 8, 2, 2 ]</pre></div></td></tr><tr><td>13</td><td><div class=\"dni-plaintext\"><pre>[ 8, 2, 2 ]</pre></div></td></tr><tr><td>14</td><td><div class=\"dni-plaintext\"><pre>[ 8, 2, 2 ]</pre></div></td></tr><tr><td>15</td><td><div class=\"dni-plaintext\"><pre>[ 8, 2, 2 ]</pre></div></td></tr><tr><td>16</td><td><div class=\"dni-plaintext\"><pre>[ 8, 2, 2 ]</pre></div></td></tr><tr><td>17</td><td><div class=\"dni-plaintext\"><pre>[ 8, 2, 2 ]</pre></div></td></tr><tr><td>18</td><td><div class=\"dni-plaintext\"><pre>[ 8, 2, 2 ]</pre></div></td></tr><tr><td>19</td><td><div class=\"dni-plaintext\"><pre>[ 8, 2, 2 ]</pre></div></td></tr><tr><td colspan=\"2\"><i>(130 more)</i></td></tr></tbody></table><style>\r\n",
       ".dni-code-hint {\r\n",
       "    font-style: italic;\r\n",
       "    overflow: hidden;\r\n",
       "    white-space: nowrap;\r\n",
       "}\r\n",
       ".dni-treeview {\r\n",
       "    white-space: nowrap;\r\n",
       "}\r\n",
       ".dni-treeview td {\r\n",
       "    vertical-align: top;\r\n",
       "    text-align: start;\r\n",
       "}\r\n",
       "details.dni-treeview {\r\n",
       "    padding-left: 1em;\r\n",
       "}\r\n",
       "table td {\r\n",
       "    text-align: start;\r\n",
       "}\r\n",
       "table tr { \r\n",
       "    vertical-align: top; \r\n",
       "    margin: 0em 0px;\r\n",
       "}\r\n",
       "table tr td pre \r\n",
       "{ \r\n",
       "    vertical-align: top !important; \r\n",
       "    margin: 0em 0px !important;\r\n",
       "} \r\n",
       "table th {\r\n",
       "    text-align: start;\r\n",
       "}\r\n",
       "</style>"
      ]
     },
     "metadata": {},
     "output_type": "display_data"
    }
   ],
   "source": [
    "model.LearnFuzzificationCoefficientsMatrix(data.X, data.C, label);\n",
    "\n",
    "model.FuzzificationCoefficientsMatrix"
   ]
  },
  {
   "cell_type": "markdown",
   "metadata": {},
   "source": [
    "# Clustering"
   ]
  },
  {
   "cell_type": "code",
   "execution_count": 3,
   "metadata": {
    "dotnet_interactive": {
     "language": "csharp"
    },
    "polyglot_notebook": {
     "kernelName": "csharp"
    },
    "vscode": {
     "languageId": "polyglot-notebook"
    }
   },
   "outputs": [
    {
     "data": {
      "text/html": [
       "<details open=\"open\" class=\"dni-treeview\"><summary><span class=\"dni-code-hint\"><code>ProjectOneClasses.ResultTypes.sSMC_FCM_Result</code></span></summary><div><table><thead><tr></tr></thead><tbody><tr><td>V</td><td><table><thead><tr><th><i>index</i></th><th>value</th></tr></thead><tbody><tr><td>0</td><td><div class=\"dni-plaintext\"><pre>[ 0.19251121653313977, 0.5746857286213858, 0.08453736037901041, 0.06213925382769894 ]</pre></div></td></tr><tr><td>1</td><td><div class=\"dni-plaintext\"><pre>[ 0.4526080636664339, 0.3378594279468486, 0.576661229163454, 0.5437422690911701 ]</pre></div></td></tr><tr><td>2</td><td><div class=\"dni-plaintext\"><pre>[ 0.6456149670705932, 0.4300186355874484, 0.7431567558605917, 0.779642474105242 ]</pre></div></td></tr></tbody></table></td></tr><tr><td>U</td><td><table><thead><tr><th><i>index</i></th><th>value</th></tr></thead><tbody><tr><td>0</td><td><div class=\"dni-plaintext\"><pre>[ 0.9688028218941408, 0.020381024647626363, 0.010816153458232862 ]</pre></div></td></tr><tr><td>1</td><td><div class=\"dni-plaintext\"><pre>[ 0.8869972341645229, 0.07600755004523846, 0.03699521579023847 ]</pre></div></td></tr><tr><td>2</td><td><div class=\"dni-plaintext\"><pre>[ 0.927098580947033, 0.048257321571493324, 0.024644097481473656 ]</pre></div></td></tr><tr><td>3</td><td><div class=\"dni-plaintext\"><pre>[ 0.8919819280039197, 0.07211539287674079, 0.03590267911933944 ]</pre></div></td></tr><tr><td>4</td><td><div class=\"dni-plaintext\"><pre>[ 0.9446115047190778, 0.03587281384123863, 0.019515681439683404 ]</pre></div></td></tr><tr><td>5</td><td><div class=\"dni-plaintext\"><pre>[ 0.8254674298959821, 0.1108020377046774, 0.06373053239934057 ]</pre></div></td></tr><tr><td>6</td><td><div class=\"dni-plaintext\"><pre>[ 0.9301283741576588, 0.04593417712400131, 0.02393744871833994 ]</pre></div></td></tr><tr><td>7</td><td><div class=\"dni-plaintext\"><pre>[ 0.9952999094187751, 0.0031021359026160433, 0.0015979546786087846 ]</pre></div></td></tr><tr><td>8</td><td><div class=\"dni-plaintext\"><pre>[ 0.8345992564982464, 0.1102698391613609, 0.055130904340392715 ]</pre></div></td></tr><tr><td>9</td><td><div class=\"dni-plaintext\"><pre>[ 0.9110129919449044, 0.05938809593166437, 0.029598912123431246 ]</pre></div></td></tr><tr><td>10</td><td><div class=\"dni-plaintext\"><pre>[ 0.8794452151818418, 0.07740962161576435, 0.04314516320239384 ]</pre></div></td></tr><tr><td>11</td><td><div class=\"dni-plaintext\"><pre>[ 0.9714999636616826, 0.01881737450673159, 0.00968266183158581 ]</pre></div></td></tr><tr><td>12</td><td><div class=\"dni-plaintext\"><pre>[ 0.8805571972851758, 0.0796852446902622, 0.03975755802456215 ]</pre></div></td></tr><tr><td>13</td><td><div class=\"dni-plaintext\"><pre>[ 0.8421603857313538, 0.10328894580544111, 0.05455066846320508 ]</pre></div></td></tr><tr><td>14</td><td><div class=\"dni-plaintext\"><pre>[ 0.7975599537861154, 0.12432940894656593, 0.07811063726731862 ]</pre></div></td></tr><tr><td>15</td><td><div class=\"dni-plaintext\"><pre>[ 0.7549780057717299, 0.1453105502589485, 0.09971144396932155 ]</pre></div></td></tr><tr><td>16</td><td><div class=\"dni-plaintext\"><pre>[ 0.8321500360731579, 0.1056679276913161, 0.06218203623552597 ]</pre></div></td></tr><tr><td>17</td><td><div class=\"dni-plaintext\"><pre>[ 0.9670608041403549, 0.021621291832088517, 0.011317904027556627 ]</pre></div></td></tr><tr><td>18</td><td><div class=\"dni-plaintext\"><pre>[ 0.8174925636293537, 0.11617932549022376, 0.06632811088042248 ]</pre></div></td></tr><tr><td>19</td><td><div class=\"dni-plaintext\"><pre>[ 0.8794345417759957, 0.07709018838339705, 0.043475269840607206 ]</pre></div></td></tr><tr><td colspan=\"2\"><i>(130 more)</i></td></tr></tbody></table></td></tr><tr><td>l</td><td><div class=\"dni-plaintext\"><pre>18</pre></div></td></tr><tr><td>M</td><td><div class=\"dni-plaintext\"><pre>2</pre></div></td></tr><tr><td>M2</td><td><div class=\"dni-plaintext\"><pre>8</pre></div></td></tr></tbody></table></div></details><style>\r\n",
       ".dni-code-hint {\r\n",
       "    font-style: italic;\r\n",
       "    overflow: hidden;\r\n",
       "    white-space: nowrap;\r\n",
       "}\r\n",
       ".dni-treeview {\r\n",
       "    white-space: nowrap;\r\n",
       "}\r\n",
       ".dni-treeview td {\r\n",
       "    vertical-align: top;\r\n",
       "    text-align: start;\r\n",
       "}\r\n",
       "details.dni-treeview {\r\n",
       "    padding-left: 1em;\r\n",
       "}\r\n",
       "table td {\r\n",
       "    text-align: start;\r\n",
       "}\r\n",
       "table tr { \r\n",
       "    vertical-align: top; \r\n",
       "    margin: 0em 0px;\r\n",
       "}\r\n",
       "table tr td pre \r\n",
       "{ \r\n",
       "    vertical-align: top !important; \r\n",
       "    margin: 0em 0px !important;\r\n",
       "} \r\n",
       "table th {\r\n",
       "    text-align: start;\r\n",
       "}\r\n",
       "</style>"
      ]
     },
     "metadata": {},
     "output_type": "display_data"
    }
   ],
   "source": [
    "model.Cluster();\n",
    "\n",
    "model.Result"
   ]
  }
 ],
 "metadata": {
  "language_info": {
   "name": "python"
  }
 },
 "nbformat": 4,
 "nbformat_minor": 2
}
