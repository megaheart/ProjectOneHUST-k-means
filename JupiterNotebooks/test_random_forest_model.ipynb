{
 "cells": [
  {
   "cell_type": "code",
   "execution_count": 1,
   "metadata": {
    "dotnet_interactive": {
     "language": "csharp"
    },
    "polyglot_notebook": {
     "kernelName": "csharp"
    },
    "vscode": {
     "languageId": "polyglot-notebook"
    }
   },
   "outputs": [],
   "source": [
    "#r \"..\\ConsoleApp1\\bin\\Debug\\net6.0\\ConsoleApp1.dll\""
   ]
  },
  {
   "cell_type": "markdown",
   "metadata": {},
   "source": [
    "# Test Random Forest Model"
   ]
  },
  {
   "cell_type": "code",
   "execution_count": 3,
   "metadata": {
    "dotnet_interactive": {
     "language": "csharp"
    },
    "polyglot_notebook": {
     "kernelName": "csharp"
    },
    "vscode": {
     "languageId": "polyglot-notebook"
    }
   },
   "outputs": [
    {
     "name": "stdout",
     "output_type": "stream",
     "text": [
      "Support Vector Classification Model Benchmark\n",
      "\n",
      "----------------------------------------------------------------------------------------\n",
      "|                    |      SSWC|        DB|       PBM|       ACC|      RAND|      JACC|\n",
      "----------------------------------------------------------------------------------------\n",
      "|Iris                |  0.610934|  0.776155|  0.872703|  0.960000|  0.949425|  0.864452|\n",
      "----------------------------------------------------------------------------------------\n",
      "|Iris Shuffled       |  0.606339|  0.793512|  0.930717|  0.966667|  0.960460|  0.887861|\n",
      "----------------------------------------------------------------------------------------\n",
      "|Wine                |  0.260593|  0.068025|  0.000604|  0.236391|  0.716857|  0.009406|\n",
      "----------------------------------------------------------------------------------------\n",
      "|Statlog(Heart)      |  0.292576|  1.974230|  0.376717|  0.822222|  0.705381|  0.547562|\n",
      "----------------------------------------------------------------------------------------\n",
      "|Vertebral Column(2C)|  0.233417|  1.884464|  0.025979|  0.835484|  0.721735|  0.601285|\n",
      "----------------------------------------------------------------------------------------\n",
      "|Vertebral Column(3C)|  0.300089|  1.574357|  0.038185|  0.848387|  0.835431|  0.646926|\n",
      "----------------------------------------------------------------------------------------\n",
      "|Glass               |  0.311332|  1.071482|  0.089695|  0.840580|  0.865352|  0.644235|\n",
      "----------------------------------------------------------------------------------------\n",
      "|Bezdek Iris         |  0.606390|  0.793542|  0.905703|  0.966667|  0.960920|  0.889678|\n",
      "----------------------------------------------------------------------------------------\n",
      "Elapsed Time: 39.844 s\n"
     ]
    }
   ],
   "source": [
    "using ConsoleApp1;\n",
    "using ConsoleApp1.Tests;\n",
    "using System.Diagnostics;\n",
    "\n",
    "Stopwatch stopwatch = new Stopwatch();\n",
    "stopwatch.Start();\n",
    "\n",
    "Model_Tests.Test_SVC_Model();\n",
    "\n",
    "stopwatch.Stop();\n",
    "Console.WriteLine(\"Elapsed Time: {0} s\", stopwatch.ElapsedMilliseconds / 1000.0);"
   ]
  }
 ],
 "metadata": {
  "language_info": {
   "name": "python"
  }
 },
 "nbformat": 4,
 "nbformat_minor": 2
}
